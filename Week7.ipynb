{
 "cells": [
  {
   "cell_type": "code",
   "execution_count": 1,
   "metadata": {},
   "outputs": [
    {
     "name": "stdout",
     "output_type": "stream",
     "text": [
      "WARNING:tensorflow:From <ipython-input-1-894f82b98467>:5: read_data_sets (from tensorflow.contrib.learn.python.learn.datasets.mnist) is deprecated and will be removed in a future version.\n",
      "Instructions for updating:\n",
      "Please use alternatives such as official/mnist/dataset.py from tensorflow/models.\n",
      "WARNING:tensorflow:From C:\\Users\\Allen\\Anaconda3\\envs\\tensorflow\\lib\\site-packages\\tensorflow\\contrib\\learn\\python\\learn\\datasets\\mnist.py:260: maybe_download (from tensorflow.contrib.learn.python.learn.datasets.base) is deprecated and will be removed in a future version.\n",
      "Instructions for updating:\n",
      "Please write your own downloading logic.\n",
      "WARNING:tensorflow:From C:\\Users\\Allen\\Anaconda3\\envs\\tensorflow\\lib\\site-packages\\tensorflow\\contrib\\learn\\python\\learn\\datasets\\mnist.py:262: extract_images (from tensorflow.contrib.learn.python.learn.datasets.mnist) is deprecated and will be removed in a future version.\n",
      "Instructions for updating:\n",
      "Please use tf.data to implement this functionality.\n",
      "Extracting MNIST_data\\train-images-idx3-ubyte.gz\n",
      "WARNING:tensorflow:From C:\\Users\\Allen\\Anaconda3\\envs\\tensorflow\\lib\\site-packages\\tensorflow\\contrib\\learn\\python\\learn\\datasets\\mnist.py:267: extract_labels (from tensorflow.contrib.learn.python.learn.datasets.mnist) is deprecated and will be removed in a future version.\n",
      "Instructions for updating:\n",
      "Please use tf.data to implement this functionality.\n",
      "Extracting MNIST_data\\train-labels-idx1-ubyte.gz\n",
      "WARNING:tensorflow:From C:\\Users\\Allen\\Anaconda3\\envs\\tensorflow\\lib\\site-packages\\tensorflow\\contrib\\learn\\python\\learn\\datasets\\mnist.py:110: dense_to_one_hot (from tensorflow.contrib.learn.python.learn.datasets.mnist) is deprecated and will be removed in a future version.\n",
      "Instructions for updating:\n",
      "Please use tf.one_hot on tensors.\n",
      "Extracting MNIST_data\\t10k-images-idx3-ubyte.gz\n",
      "Extracting MNIST_data\\t10k-labels-idx1-ubyte.gz\n",
      "WARNING:tensorflow:From C:\\Users\\Allen\\Anaconda3\\envs\\tensorflow\\lib\\site-packages\\tensorflow\\contrib\\learn\\python\\learn\\datasets\\mnist.py:290: DataSet.__init__ (from tensorflow.contrib.learn.python.learn.datasets.mnist) is deprecated and will be removed in a future version.\n",
      "Instructions for updating:\n",
      "Please use alternatives such as official/mnist/dataset.py from tensorflow/models.\n"
     ]
    }
   ],
   "source": [
    "import tensorflow as tf\n",
    "import numpy as np\n",
    "import matplotlib.pyplot as plt\n",
    "from tensorflow.examples.tutorials.mnist import input_data\n",
    "mnist=input_data.read_data_sets(\"MNIST_data\", one_hot=True)"
   ]
  },
  {
   "cell_type": "code",
   "execution_count": 2,
   "metadata": {},
   "outputs": [
    {
     "name": "stdout",
     "output_type": "stream",
     "text": [
      "WARNING:tensorflow:From C:\\Users\\Allen\\Anaconda3\\envs\\tensorflow\\lib\\site-packages\\tensorflow\\python\\framework\\op_def_library.py:263: colocate_with (from tensorflow.python.framework.ops) is deprecated and will be removed in a future version.\n",
      "Instructions for updating:\n",
      "Colocations handled automatically by placer.\n",
      "WARNING:tensorflow:From <ipython-input-2-57dec3aa033b>:24: BasicLSTMCell.__init__ (from tensorflow.python.ops.rnn_cell_impl) is deprecated and will be removed in a future version.\n",
      "Instructions for updating:\n",
      "This class is equivalent as tf.keras.layers.LSTMCell, and will be replaced by that in Tensorflow 2.0.\n",
      "WARNING:tensorflow:From <ipython-input-2-57dec3aa033b>:27: dynamic_rnn (from tensorflow.python.ops.rnn) is deprecated and will be removed in a future version.\n",
      "Instructions for updating:\n",
      "Please use `keras.layers.RNN(cell)`, which is equivalent to this API\n",
      "WARNING:tensorflow:From <ipython-input-2-57dec3aa033b>:35: softmax_cross_entropy_with_logits (from tensorflow.python.ops.nn_ops) is deprecated and will be removed in a future version.\n",
      "Instructions for updating:\n",
      "\n",
      "Future major versions of TensorFlow will allow gradients to flow\n",
      "into the labels input on backprop by default.\n",
      "\n",
      "See `tf.nn.softmax_cross_entropy_with_logits_v2`.\n",
      "\n",
      "iter0, testing accuracy:0.8826\n",
      "iter1, testing accuracy:0.9252\n",
      "iter2, testing accuracy:0.9471\n",
      "iter3, testing accuracy:0.9531\n",
      "iter4, testing accuracy:0.9547\n",
      "iter5, testing accuracy:0.9585\n",
      "iter6, testing accuracy:0.9697\n",
      "iter7, testing accuracy:0.9656\n",
      "iter8, testing accuracy:0.9702\n",
      "iter9, testing accuracy:0.9724\n",
      "iter10, testing accuracy:0.971\n",
      "iter11, testing accuracy:0.9764\n",
      "iter12, testing accuracy:0.9726\n",
      "iter13, testing accuracy:0.9792\n",
      "iter14, testing accuracy:0.9784\n",
      "iter15, testing accuracy:0.9801\n",
      "iter16, testing accuracy:0.9806\n",
      "iter17, testing accuracy:0.9789\n",
      "iter18, testing accuracy:0.9778\n",
      "iter19, testing accuracy:0.9784\n",
      "iter20, testing accuracy:0.9816\n"
     ]
    }
   ],
   "source": [
    "##MNIST图片28*28\n",
    "n_inputs=28\n",
    "max_time=28\n",
    "\n",
    "lstm_size=100 ###隐层单元\n",
    "n_classes=10  ###10个分类\n",
    "\n",
    "batch_size=128\n",
    "n_batch=mnist.train.num_examples // batch_size\n",
    "\n",
    "\n",
    "with tf.name_scope('input'):\n",
    "##定义placeholder\n",
    "    x=tf.placeholder(tf.float32,[None,784], name='x-input')\n",
    "    y=tf.placeholder(tf.float32,[None,10], name='y-input')\n",
    "    \n",
    "    weights=tf.Variable(tf.truncated_normal([lstm_size,n_classes],stddev=0.1))\n",
    "    biases=tf.Variable(tf.constant(0.1,shape=[n_classes]))\n",
    "    \n",
    "    \n",
    "with tf.name_scope('layer'):\n",
    "    def RNN(x,weights,biases):\n",
    "        inputs=tf.reshape(x,[-1,max_time,n_inputs])\n",
    "        lstm_cell=tf.contrib.rnn.BasicLSTMCell(lstm_size)\n",
    "        ##final_state[0] cell state\n",
    "        ##final_state[1] hidden state\n",
    "        outputs,final_state=tf.nn.dynamic_rnn(lstm_cell,inputs,dtype=tf.float32)\n",
    "        results = tf.nn.softmax(tf.matmul(final_state[1],weights)+biases)\n",
    "        return results\n",
    "    prediction=RNN(x,weights,biases)\n",
    "\n",
    "\n",
    "with tf.name_scope('loss'):\n",
    "##二次代价函数\n",
    "    loss=tf.reduce_mean(tf.nn.softmax_cross_entropy_with_logits(logits=prediction,labels=y))\n",
    "    tf.summary.scalar('loss', loss)\n",
    "    \n",
    "with tf.name_scope('train_step'):\n",
    "    train_step=tf.train.AdamOptimizer(1e-3).minimize(loss)\n",
    "\n",
    "init = tf.global_variables_initializer()\n",
    "\n",
    "with tf.name_scope('correct_prediction'):\n",
    "    correct_prediction=tf.equal(tf.argmax(y,1), tf.argmax(prediction,1))\n",
    "\n",
    "with tf.name_scope('accuarcy'):\n",
    "    accuracy = tf.reduce_mean(tf.cast(correct_prediction, tf.float32))\n",
    "    tf.summary.scalar('accuracy', accuracy)\n",
    "\n",
    "merged=tf.summary.merge_all()\n",
    "\n",
    "saver=tf.train.Saver()\n",
    "\n",
    "with tf.Session() as sess:\n",
    "    sess.run(init)\n",
    "    writer=tf.summary.FileWriter('logs/',sess.graph)\n",
    "    for epoch in range(21):\n",
    "        for batch in range(n_batch):\n",
    "            batch_xs, batch_ys= mnist.train.next_batch(batch_size)\n",
    "            summary, _ = sess.run([merged,train_step], feed_dict={x:batch_xs, y:batch_ys})\n",
    "            \n",
    "        writer.add_summary(summary, epoch)    \n",
    "        acc=sess.run(accuracy, feed_dict={x:mnist.test.images, y:mnist.test.labels})\n",
    "        print(\"iter\" + str(epoch)+\", testing accuracy:\" + str(acc))\n",
    "    \n",
    "    saver.save(sess,'net/MNIST_RNN.ckpt')"
   ]
  },
  {
   "cell_type": "code",
   "execution_count": 3,
   "metadata": {},
   "outputs": [
    {
     "name": "stdout",
     "output_type": "stream",
     "text": [
      "0.0532\n",
      "WARNING:tensorflow:From C:\\Users\\Allen\\Anaconda3\\envs\\tensorflow\\lib\\site-packages\\tensorflow\\python\\training\\saver.py:1266: checkpoint_exists (from tensorflow.python.training.checkpoint_management) is deprecated and will be removed in a future version.\n",
      "Instructions for updating:\n",
      "Use standard file APIs to check for files with this prefix.\n",
      "INFO:tensorflow:Restoring parameters from net/MNIST_RNN.ckpt\n",
      "0.9816\n"
     ]
    }
   ],
   "source": [
    "with tf.Session() as sess:\n",
    "    sess.run(init)\n",
    "    acc_notrain=sess.run(accuracy, feed_dict={x:mnist.test.images, y:mnist.test.labels})\n",
    "    print(acc_notrain)\n",
    "    saver.restore(sess,'net/MNIST_RNN.ckpt')\n",
    "      \n",
    "    acc=sess.run(accuracy, feed_dict={x:mnist.test.images, y:mnist.test.labels})\n",
    "    print(acc)\n",
    "    \n"
   ]
  },
  {
   "cell_type": "code",
   "execution_count": null,
   "metadata": {},
   "outputs": [],
   "source": []
  }
 ],
 "metadata": {
  "kernelspec": {
   "display_name": "Python 3",
   "language": "python",
   "name": "python3"
  },
  "language_info": {
   "codemirror_mode": {
    "name": "ipython",
    "version": 3
   },
   "file_extension": ".py",
   "mimetype": "text/x-python",
   "name": "python",
   "nbconvert_exporter": "python",
   "pygments_lexer": "ipython3",
   "version": "3.6.8"
  },
  "toc": {
   "base_numbering": 1,
   "nav_menu": {},
   "number_sections": true,
   "sideBar": true,
   "skip_h1_title": false,
   "title_cell": "Table of Contents",
   "title_sidebar": "Contents",
   "toc_cell": false,
   "toc_position": {},
   "toc_section_display": true,
   "toc_window_display": false
  }
 },
 "nbformat": 4,
 "nbformat_minor": 2
}
